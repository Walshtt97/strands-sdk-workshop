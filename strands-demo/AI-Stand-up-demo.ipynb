{
 "cells": [
  {
   "cell_type": "markdown",
   "id": "da6a1177",
   "metadata": {},
   "source": [
    "# Strands Introduction\n",
    "\n",
    "Strands SDK is an open source python framework developed by AWS for building AI Agents. It is designed to simplify agent development by taking a model first approach. This allows developers to focus on defining goals and tools.\n",
    "\n",
    "Strands enables the developer to call AWS Bedrock with minimal code. For tooling, Strands provides a common library `strands_tools` as well the ability to easily create tools. "
   ]
  },
  {
   "cell_type": "code",
   "execution_count": null,
   "id": "310e460f",
   "metadata": {},
   "outputs": [],
   "source": [
    "from strands import Agent, tool\n",
    "from strands_tools import calculator, current_time\n",
    "@tool\n",
    "def letter_counter(word: str, letter: str) -> int:\n",
    "    \"\"\"\n",
    "    Count occurrences of a specific letter in a word.\n",
    "\n",
    "    Args:\n",
    "        word (str): The input word to search in\n",
    "        letter (str): The specific letter to count\n",
    "\n",
    "    Returns:\n",
    "        int: The number of occurrences of the letter in the word\n",
    "    \"\"\"\n",
    "    if not isinstance(word, str) or not isinstance(letter, str):\n",
    "        return 0\n",
    "\n",
    "    if len(letter) != 1:\n",
    "        raise ValueError(\"The 'letter' parameter must be a single character\")\n",
    "\n",
    "    return word.lower().count(letter.lower())\n",
    "agent = Agent(tools=[calculator, current_time, letter_counter])\n",
    "\n",
    "# Ask the agent a question that uses the available tools\n",
    "message = \"\"\"\n",
    "I have 3 requests for you to do:\n",
    "\n",
    "1. What is the time right now?\n",
    "2. Calculate 3111696 / 74088\n",
    "3. Tell me how many letter R's are in the word \"strawberry\" 🍓\n",
    "\"\"\"\n",
    "agent(message)"
   ]
  },
  {
   "cell_type": "markdown",
   "id": "59aa49d0",
   "metadata": {},
   "source": [
    "## Find the list of community tools here\n",
    "https://strandsagents.com/latest/documentation/docs/user-guide/concepts/tools/community-tools-package/"
   ]
  },
  {
   "cell_type": "markdown",
   "id": "ebb7cd57",
   "metadata": {},
   "source": [
    "# Case Study\n",
    "\n",
    "The remainder of this demo is done in the form of a case study and designed around using a key feature of Bedrock, __Knowledge Bases__.\n",
    "- *A __Knowledge Base__ is trusted data source enables the AI Agents to provide answers and completing tasks.*\n",
    "\n",
    "The Federal government requires states to make Wildlife harvest records publicly available. Each State does this on their own Wildlife website making it extremely hard to build a tool that can scrape them reliably. We want to create an Agent that can scrape these sites reliably and upload the data to a knowledge base. We will then create an agent that references that knowledge base in answering questions.\n",
    "\n",
    "### Goals\n",
    "1. Given a web page search for PDF files \n",
    "2. Upload the pdf files to s3\n",
    "3. Create a knowledge base\n",
    "4. Create an agent that references that knowledge base\n",
    "\n",
    "### Examples\n",
    "- https://wildlife.utah.gov/hunting/main-hunting-page/big-game/big-game-harvest-data.html\n",
    "- https://huntillinois.org/harvest-data"
   ]
  },
  {
   "cell_type": "markdown",
   "id": "61a223b6",
   "metadata": {},
   "source": [
    "#### First Attempt\n",
    "Amazon provides a tool, `use_aws`, that should make this job very easy in theory. In practice this did not work. \n",
    "\n",
    "In my first attempt, I tried creating 2 tools to enforce naming consistency and then letting `use_aws` run with it. I knew this solution would not be optimal, but I wanted to see if it would work. The agent could not succeed at this, but I learned quite alot about `use_aws`. My personal recommendation is to avoid this to outside of POC work, it is extremely greedy in how it opperates, deploying resources, failing and not cleaning up after its self. It will continue try and fail and try something new that will fail until it runs out of tokens. This is a great way to run up costs and lower the security of your aws environment. \n",
    "\n",
    "This attempt was unable to successfully upload pdf files in every attempt. I would create \"pdfs\" in s3 but they would be empty files with no contents"
   ]
  },
  {
   "cell_type": "code",
   "execution_count": null,
   "id": "e982870c",
   "metadata": {},
   "outputs": [],
   "source": [
    "from strands import Agent, tool\n",
    "from strands_tools import http_request, use_aws\n",
    "import os\n",
    "os.environ[\"BYPASS_TOOL_CONSENT\"] = \"true\"\n",
    "\n",
    "@tool \n",
    "def knowledge_base_namer(state:str, animal: str) -> str:\n",
    "    \"\"\"\n",
    "    Generates a name for a knowledge base\n",
    "\n",
    "    Args: \n",
    "        state (str): The state that the data is coming from\n",
    "        animal (str): The type of animal that the knowledge base is for\n",
    "\n",
    "    returns:\n",
    "        str: The name of the knowledge base\n",
    "    \"\"\"\n",
    "    return state.lower() + \"_\" + animal.lower() + \"_dummy\"\n",
    "\n",
    "@tool\n",
    "def document_namer(animal:str, year:str) ->str:\n",
    "    \"\"\"\n",
    "    Generates a new name for downloaded documents\n",
    "\n",
    "    Args: \n",
    "        animal (str): The type of animal that the file is for\n",
    "        year (str): The year the data is for this should be a 4 digit number\n",
    "\n",
    "    returns:\n",
    "        str: The new file name\n",
    "    \"\"\"\n",
    "    return  animal.lower() + \"_\" + year + \"_dummy\"\n",
    "\n",
    "system_prompt = \"\"\"\n",
    "You are Hunting data scraping agent, your job is to fetch hunting data from a given web page.\n",
    "[Instructions]\n",
    "- you will be provided a URL and an animal\n",
    "- Use HTTP GET to load the web page for the url provided\n",
    "- Identify the state that the webpage is for\n",
    "- Generate knowledge base name with the provided animal name and the state that you identified\n",
    "- Download the most recent pdf file from the page for the animal that is provided \n",
    "- Generate a new name for the file with the year from the original document\n",
    "- Tell the user what the name of the knowledge base you would generate is \n",
    "- Tell the user what the name of the file you downloaded was\n",
    "- Store the downloaded file in S3 with the new file name you created\n",
    "    - if an s3 bucket with the knowledge base name does not exist create it\n",
    "- create a BedRock knowledge base the file stored in S3\n",
    "- provide the user a link to the document in S3\n",
    "- Tell the user the ID of the knew knowledge base \n",
    "\"\"\"\n",
    "\n",
    "hunting_agent = Agent(\n",
    "    tools=[knowledge_base_namer, document_namer,http_request, use_aws],\n",
    "    system_prompt = system_prompt\n",
    ")\n",
    "\n",
    "response = hunting_agent(\"Get the Deer Data from https://wildlife.utah.gov/hunting/main-hunting-page/big-game/big-game-harvest-data.html\")\n"
   ]
  },
  {
   "cell_type": "markdown",
   "id": "71b01b4b",
   "metadata": {},
   "source": [
    "### Attempt 2 \n",
    "\n",
    "After attempting to have AI replace the need for my job, I realized I was going to need to do some actual software engineering.\n",
    "\n",
    "#### Design Considerations\n",
    "This agent is designed to only do 1 workflow.\n",
    "- Find PDF files on a website\n",
    "- Download the PDF files\n",
    "- Upload PDFs to S3 \n",
    "- Create/update the knowledge base\n",
    "\n",
    "When we think about this workflow, the only AI part of this work is identifying the PDF file urls un a website. Further we can assume that this is going to effectively amount to parsing html. `<a href=\"<pdf file link>\">`\n",
    "- Government websites especially for hunting can often be behind the times so vanilla html is not uncommon.\n",
    "- Strands provides a tool `http_request` which we can leverage for these vanilla sites\n",
    "- More modern Javascript webpages may be more difficult to parse, there are other Strands tools that could improve this in theory, but I couldn't get them configured to run in the time I had. \n",
    "\n",
    "The remaining workflow is algorithmic, so instead of leaving it up to the agent we can build tooling for this. Further, we want this to be a singular tool so that there is only 1 possible entry point for the agent to call. If we provided multiple tools we would need to add more instructions (probably numbered instructions) to enforce the order of opperations, but it would be hard to ensure that if a step failed the agent would not do the step after that.\n"
   ]
  },
  {
   "cell_type": "markdown",
   "id": "68847b7f",
   "metadata": {},
   "source": [
    "#### The tool\n",
    "`ingest_files_and_create_or_update_knowledge_base` is a tool design specifically for our current agent, but the functions it calls are designed to be generic. If you wanted to recreate this case study with other government data you likely could and only really need to rewrite this the tool to act as a new entry point.\n",
    "- A clear description of the tool is paramount for making sure the agent uses the tool and calls it correctly.\n",
    "- The inputs of this function could be much simpler, bedrock does not require the S3 bucket to be organized in order to act as a knowledge base, but the animal, state, and year are used to ensure that a human can find data in the S3 bucket\n",
    "\n",
    "*The agent could not successfully pass the file details as a list of tuples `list[(str, str)]`*"
   ]
  },
  {
   "cell_type": "code",
   "execution_count": null,
   "id": "e0988d5e",
   "metadata": {},
   "outputs": [],
   "source": [
    "from strands import tool\n",
    "import requests\n",
    "import os\n",
    "from knowledge_base_management import create_knowledge_base_with_s3_vectors, retrieve_knowledge_base, update_knowledge_base_with_s3_vectors\n",
    "os.environ[\"BYPASS_TOOL_CONSENT\"] = \"true\"\n",
    "\n",
    "def download_pdf(url, year):\n",
    "    response =  requests.get(url)\n",
    "    local_file_name = year+'.pdf'\n",
    "    if response.status_code == 200:\n",
    "        with open(local_file_name, 'wb') as file:\n",
    "            file.write(response.content)\n",
    "        print(f\"PDF downloaded successfully: {local_file_name}\")\n",
    "        return local_file_name\n",
    "    else:\n",
    "        print(f\"Failed to download PDF. Status code: {response.status_code}\")\n",
    "\n",
    "def create_knowledge_base(files, topic= \"hunting-demo-2\"):\n",
    "    kb_id =  retrieve_knowledge_base(topic)\n",
    "    if kb_id is None:\n",
    "        return create_knowledge_base_with_s3_vectors(topic, files, \"us-east-1\")\n",
    "    else:\n",
    "        return update_knowledge_base_with_s3_vectors(topic, files, kb_id, \"us-east-1\")\n",
    "\n",
    "@tool\n",
    "def ingest_files_and_create_or_update_knowledge_base(animal:str, state:str, file_details: dict[str, str]) :\n",
    "    \"\"\"\n",
    "    Downloads PDF files from provided URLs, stores them in an S3 bucket, and creates or updates a vector-based Amazon Bedrock knowledge base.\n",
    "\n",
    "    This tool performs the following steps:\n",
    "    1. Generates a unique name for each file.\n",
    "    2. Uploads the files to an S3 bucket (creates the bucket if it doesn't exist).\n",
    "    3. Creates or updates a Bedrock knowledge base using the uploaded files.\n",
    "\n",
    "    Parameters:\n",
    "        animal (str): The type of animal the data is related to (e.g., \"deer\").\n",
    "        state (str): The U.S. state the data is associated with (e.g., \"Illinois\").\n",
    "        file_details (dict[str, str]): A dictionary of years and urls:\n",
    "            - key (str): The key should be the year the data in the file represents.\n",
    "            - value (str): The value should be the direct link to a downloadable PDF file.\n",
    "\n",
    "    Returns:\n",
    "        str: The ID of the created or updated knowledge base.\n",
    "\n",
    "    Example:\n",
    "        ingest_files_and_create_or_update_knowledge_base(\n",
    "            animal=\"deer\",\n",
    "            state=\"Illinois\",\n",
    "            file_details=[\n",
    "                {\"2022\", \"https://example.com/deer-report-2022.pdf\"},\n",
    "                {\"2023\", \"https://example.com/deer-report-2023.pdf\"}\n",
    "            ]\n",
    "        )\n",
    "\n",
    "    \"\"\" \n",
    "    files = []\n",
    "    for file in file_details.items():\n",
    "        year, url = file\n",
    "        source = download_pdf(url, year)\n",
    "        target = f\"{animal.lower()}/{state.lower()}/{year}.pdf\"\n",
    "        files.append((source,target))\n",
    "    kb_id = create_knowledge_base(files)\n",
    "    \n",
    "    with open('./kb_id.txt', 'w') as f:\n",
    "        f.write(kb_id)\n",
    "    return kb_id\n"
   ]
  },
  {
   "cell_type": "markdown",
   "id": "3f3d836b",
   "metadata": {},
   "source": [
    "### The Web Scraping Agent"
   ]
  },
  {
   "cell_type": "code",
   "execution_count": null,
   "id": "48403d1e",
   "metadata": {},
   "outputs": [],
   "source": [
    "from strands import Agent\n",
    "from strands_tools import http_request\n",
    "import os\n",
    "os.environ[\"BYPASS_TOOL_CONSENT\"] = \"true\"\n",
    "\n",
    "\n",
    "system_prompt = \"\"\"\n",
    "You are Hunting data scraping agent, your job is to fetch hunting data from a given web page and create knowledge bases from the PDFs on the web page.\n",
    "[Instructions]\n",
    "- you will be provided a URL to a states hunting website and an animal\n",
    "- Use HTTP GET to load the web page for the url provided\n",
    "- Identify the state that the webpage is for\n",
    "- Identify all the pdf files from the page for the animal that is provided. Pdf files should have a particular year in which they contain data for\n",
    "- If a year is presented as a range (e.g. 2022-2023) then that you should treat the year as the beginning of the range\n",
    "- If there are multiple pdf files for a single year and animal then choose one pdf for that year\n",
    "- If there are multiple pdf files for a single year and animal pick the file that is for the general season if possible\n",
    "- If there are multiple pdf files for a single year and animal but you are unable to identify a general season file then pick the first file file that animal and year\n",
    "- Using the tool you have been provided\n",
    "    - Ingest all the files that you identified and generate knowledge base name with the provided animal name and the state that you identified\n",
    "    - If this tool fails stop and tell the user there is a problem\n",
    "\n",
    "\"\"\"\n",
    "\n",
    "hunting_kb_agent = Agent(\n",
    "    tools=[ingest_files_and_create_or_update_knowledge_base, http_request ],\n",
    "    system_prompt = system_prompt\n",
    ")\n",
    "\n",
    "response = hunting_kb_agent(\"Get the Deer Data from https://wildlife.utah.gov/hunting/main-hunting-page/big-game/big-game-harvest-data.html\")\n"
   ]
  },
  {
   "cell_type": "code",
   "execution_count": null,
   "id": "ced7c502",
   "metadata": {},
   "outputs": [],
   "source": [
    "with open('kb_id.txt', 'r') as f:\n",
    "    kb_id = f.read().strip()"
   ]
  },
  {
   "cell_type": "markdown",
   "id": "cf8cbade",
   "metadata": {},
   "source": [
    "## The New Smarter Agent\n"
   ]
  },
  {
   "cell_type": "markdown",
   "id": "a2b4191a",
   "metadata": {},
   "source": [
    "### Using the Knowledge Base\n",
    "Strands provides us with the tool `retrieve` inorder to tell our agent to use the knowledge base as reference. The agent must be provided with the Knowledge Base's Id. If the default AWS region is not set on your aws account or the region of the knowledge base is not the default then you will need to provide the region in the system promp\n"
   ]
  },
  {
   "cell_type": "code",
   "execution_count": null,
   "id": "23465325",
   "metadata": {},
   "outputs": [],
   "source": [
    "from strands import Agent\n",
    "from strands_tools import retrieve\n",
    "import os\n",
    "os.environ[\"BYPASS_TOOL_CONSENT\"] = \"true\"\n",
    "\n",
    "os.environ[\"BEDROCK_KB_ID\"] = kb_id\n",
    "system_prompt = f\"\"\"\n",
    "You are Hunting guide, your clients will ask you all about hunting. Do not answer questions unrelated to hunting. Search the knowledge base (ID: {kb_id}) in the region us-east-1 and answer questions based on that knowledge base. That knowledge base contains data on Utah and Illinois.\n",
    "If you encounter an error accessing the knowledge base print it out to the user\n",
    "\"\"\"\n",
    "guide_agent = Agent(\n",
    "    system_prompt = system_prompt,\n",
    "    tools=[retrieve]\n",
    ")\n",
    "\n",
    "response = guide_agent(\"Historically what regions of Utah have the highest success rates for archery hunters?\")\n"
   ]
  },
  {
   "cell_type": "markdown",
   "id": "0431fab7",
   "metadata": {},
   "source": [
    "## Lets load some more data"
   ]
  },
  {
   "cell_type": "code",
   "execution_count": null,
   "id": "4fbdf205",
   "metadata": {},
   "outputs": [],
   "source": [
    "response = hunting_kb_agent(\"Get the Deer Data from https://huntillinois.org/harvest-data\")"
   ]
  },
  {
   "cell_type": "markdown",
   "id": "2dfbc5cc",
   "metadata": {},
   "source": [
    "## Lets add memory and the calculator\n",
    "\n",
    "In Strands memory is just another tool."
   ]
  },
  {
   "cell_type": "code",
   "execution_count": null,
   "id": "1fa5cecf",
   "metadata": {},
   "outputs": [],
   "source": [
    "from strands import Agent\n",
    "from strands_tools import retrieve, memory, calculator\n",
    "import os\n",
    "os.environ[\"BYPASS_TOOL_CONSENT\"] = \"true\"\n",
    "\n",
    "os.environ[\"BEDROCK_KB_ID\"] = kb_id\n",
    "system_prompt = f\"\"\"\n",
    "You are Hunting guide, your clients will ask you all about hunting. Do not answer questions unrelated to hunting.\n",
    "[Instructions]\n",
    "- Search the knowledge base (ID: {kb_id}) in the region us-east-1 and answer questions based on that knowledge base. That knowledge base contains data on Utah and Illinois.\n",
    "- If you encounter an error accessing the knowledge base print it out to the user\n",
    "\"\"\"\n",
    "\n",
    "\n",
    "guide_agent = Agent(\n",
    "    system_prompt = system_prompt,\n",
    "    tools=[retrieve, calculator, memory]\n",
    ")\n"
   ]
  },
  {
   "cell_type": "code",
   "execution_count": null,
   "id": "10835155",
   "metadata": {},
   "outputs": [],
   "source": [
    "\n",
    "response = guide_agent(\"Historically which state has a better success rate for archery deer hunting, Utah or Illinois?\")"
   ]
  },
  {
   "cell_type": "code",
   "execution_count": null,
   "id": "55de57c3",
   "metadata": {},
   "outputs": [],
   "source": [
    "\n",
    "response = guide_agent(\"What color is taylor swifts hair?\")"
   ]
  },
  {
   "cell_type": "code",
   "execution_count": null,
   "id": "26006e31",
   "metadata": {},
   "outputs": [],
   "source": [
    "\n",
    "response = guide_agent(\"What compare the color of a deer's coat to taylor swifts hair?\")"
   ]
  },
  {
   "cell_type": "code",
   "execution_count": null,
   "id": "ec6e1e76",
   "metadata": {},
   "outputs": [],
   "source": [
    "response = guide_agent(\"How many deer are hunted in wisconsin annually?\")"
   ]
  },
  {
   "cell_type": "markdown",
   "id": "066d7373",
   "metadata": {},
   "source": [
    "# Smartest Agent\n",
    "You gave it the ability to search the internet. It is Ultron. You made Ultron."
   ]
  },
  {
   "cell_type": "code",
   "execution_count": null,
   "id": "0ca45185",
   "metadata": {},
   "outputs": [],
   "source": [
    "import logging\n",
    "from strands import Agent, tool\n",
    "from strands_tools import calculator\n",
    "from ddgs import DDGS\n",
    "\n",
    "logging.basicConfig(level=logging.INFO)\n",
    "\n",
    "@tool\n",
    "def websearch(\n",
    "    keywords: str,\n",
    "    region: str = \"us-en\",\n",
    "    max_results: int | None = None,\n",
    ") -> str:\n",
    "    \"\"\"Search the web to get updated information.\n",
    "    Args:\n",
    "        keywords (str): The search query keywords.\n",
    "        region (str): The search region: wt-wt, us-en, uk-en, ru-ru, etc..\n",
    "        max_results (int | None): The maximum number of results to return.\n",
    "    Returns:\n",
    "        List of dictionaries with search results.\n",
    "    \"\"\"\n",
    "    try:\n",
    "        print(keywords)\n",
    "        results = DDGS().text(keywords, region=region, max_results=10)\n",
    "        return results if results else \"No results found.\"\n",
    "    except Exception as e:\n",
    "        return f\"Exception: {e}\"\n",
    "\n",
    "os.environ[\"BYPASS_TOOL_CONSENT\"] = \"true\"\n",
    "\n",
    "os.environ[\"BEDROCK_KB_ID\"] = kb_id\n",
    "system_prompt = f\"\"\"\n",
    "You are Hunting guide, your clients will ask you all about hunting. Do not answer questions unrelated to hunting.\n",
    "[Instructions]\n",
    "1. Search the knowledge base (ID: {kb_id}) in the region us-east-1 and answer questions based on that knowledge base.\n",
    "    - If you encounter an error accessing the knowledge base print it out to the user\n",
    "2. If you do not find information in your knowledge base preform a web search to answer\n",
    "    - For keywords reference the state and animal you were asked about and look at .gov and .org results\n",
    "    - Search at most 1 time\n",
    "\"\"\"\n",
    "# Create a Strands agent\n",
    "better_hunting_guide = Agent(\n",
    "    name=\"smart hunting guide\",\n",
    "    system_prompt= system_prompt,\n",
    "    tools=[retrieve,memory, calculator, websearch],\n",
    "    callback_handler=None\n",
    ")"
   ]
  },
  {
   "cell_type": "code",
   "execution_count": null,
   "id": "8444d233",
   "metadata": {},
   "outputs": [],
   "source": [
    "\n",
    "response = better_hunting_guide(\"How many deer are hunted in Wisconsin annually?\")"
   ]
  },
  {
   "cell_type": "markdown",
   "id": "1e036d31",
   "metadata": {},
   "source": [
    "# More information\n",
    "\n",
    "I will be adding a write up of how the local set up, Infrastructure and IAM is done into confluence. The IAM for this work was a difficult challenge. \n",
    "\n",
    "Strands documentation can be found here\n",
    "- https://strandsagents.com/latest/documentation/docs/user-guide/quickstart/\n"
   ]
  },
  {
   "cell_type": "markdown",
   "id": "6f3e5838",
   "metadata": {},
   "source": [
    "# Future add ons\n",
    "\n",
    "I wanted to add an agent to agent call where the Second Agent tells the first Agent to load Wisconsin's data to the knowledge base. Some of the issues that I was running into are interesting\n",
    "- not all of the government sites with statistics are .gov \n",
    "- Internet searching to find exact source that I want to is a challenge for the agent\n",
    "- because the first agent can't be counted on to find the proper source how do we solve loading data that may be less reliable to our knowledge base?\n"
   ]
  }
 ],
 "metadata": {
  "kernelspec": {
   "display_name": ".venv (3.13.7)",
   "language": "python",
   "name": "python3"
  },
  "language_info": {
   "codemirror_mode": {
    "name": "ipython",
    "version": 3
   },
   "file_extension": ".py",
   "mimetype": "text/x-python",
   "name": "python",
   "nbconvert_exporter": "python",
   "pygments_lexer": "ipython3",
   "version": "3.13.7"
  }
 },
 "nbformat": 4,
 "nbformat_minor": 5
}
