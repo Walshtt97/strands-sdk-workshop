{
 "cells": [
  {
   "cell_type": "markdown",
   "id": "da6a1177",
   "metadata": {},
   "source": [
    "# Strands Introduction\n",
    "\n",
    "Strands SDK is an open source python framework developed by AWS for building AI Agents. It is designed to simplify agent development by taking a model first approach. This allows developers to focus on defining goals and tools.\n",
    "\n",
    "Strands enables the developer to call AWS Bedrock with minimal code. For tooling, Strands provides a common library `strands_tools` as well the ability to easily create tools. "
   ]
  },
  {
   "cell_type": "code",
   "execution_count": null,
   "id": "310e460f",
   "metadata": {},
   "outputs": [],
   "source": [
    "from strands import Agent, tool\n",
    "from strands_tools import calculator, current_time\n",
    "@tool\n",
    "def letter_counter(word: str, letter: str) -> int:\n",
    "    \"\"\"\n",
    "    Count occurrences of a specific letter in a word.\n",
    "\n",
    "    Args:\n",
    "        word (str): The input word to search in\n",
    "        letter (str): The specific letter to count\n",
    "\n",
    "    Returns:\n",
    "        int: The number of occurrences of the letter in the word\n",
    "    \"\"\"\n",
    "    if not isinstance(word, str) or not isinstance(letter, str):\n",
    "        return 0\n",
    "\n",
    "    if len(letter) != 1:\n",
    "        raise ValueError(\"The 'letter' parameter must be a single character\")\n",
    "\n",
    "    return word.lower().count(letter.lower())\n",
    "agent = Agent(tools=[calculator, current_time, letter_counter])\n",
    "\n",
    "# Ask the agent a question that uses the available tools\n",
    "message = \"\"\"\n",
    "I have 3 requests for you to do:\n",
    "\n",
    "1. What is the time right now?\n",
    "2. Calculate 3111696 / 74088\n",
    "3. Tell me how many letter R's are in the word \"strawberry\" 🍓\n",
    "\"\"\"\n",
    "agent(message)"
   ]
  },
  {
   "cell_type": "markdown",
   "id": "59aa49d0",
   "metadata": {},
   "source": [
    "## Find the list of community tools here\n",
    "https://strandsagents.com/latest/documentation/docs/user-guide/concepts/tools/community-tools-package/"
   ]
  },
  {
   "cell_type": "markdown",
   "id": "75dab901",
   "metadata": {},
   "source": [
    "# Local vs Cloud\n",
    "\n",
    "In the above code, we can see with Strands we create an agents, but what is an agent? How does Amazon Bedrock play into Strand? In the above example the agent is provided a prompt and several tools. We can infer what the agent is doing, answering the prompt using the tools that we have provided. The question is __HOW does the the agent do this?__ \n",
    "\n",
    "How does this jupyter notebook and your local computer relate to Amazon Bedrock?\n",
    "\n",
    "The majority of this workshop will focus on knowledge bases and tools and how they are used in conjunction with LLMs provided by Amazon bedrock. The LLM is running in Amazon Bedrock, and the knowledge base is being ingested by amazon bedrock, however the tools are not part of Bedrock.\n",
    "\n",
    "See the following."
   ]
  },
  {
   "cell_type": "code",
   "execution_count": null,
   "id": "1d70ad80",
   "metadata": {},
   "outputs": [
    {
     "name": "stdout",
     "output_type": "stream",
     "text": [
      "NV-Twalsh24\n"
     ]
    }
   ],
   "source": [
    "## See your hostname\n",
    "%%bash\n",
    "echo $(hostname)"
   ]
  },
  {
   "cell_type": "code",
   "execution_count": null,
   "id": "c7a0e23b",
   "metadata": {},
   "outputs": [
    {
     "name": "stdout",
     "output_type": "stream",
     "text": [
      "I'll get the name of the host for you.\n",
      "Tool #1: host_name\n",
      "The name of the host is **NV-Twalsh24**."
     ]
    },
    {
     "data": {
      "text/plain": [
       "AgentResult(stop_reason='end_turn', message={'role': 'assistant', 'content': [{'text': 'The name of the host is **NV-Twalsh24**.'}]}, metrics=EventLoopMetrics(cycle_count=2, tool_metrics={'host_name': ToolMetrics(tool={'toolUseId': 'tooluse_Y1C_Lf1nRjicT4NdYUzEEw', 'name': 'host_name', 'input': {}}, call_count=1, success_count=1, error_count=0, total_time=0.004027843475341797)}, cycle_durations=[1.3033673763275146], traces=[<strands.telemetry.metrics.Trace object at 0x00000140C2F37CB0>, <strands.telemetry.metrics.Trace object at 0x00000140C37E3100>], accumulated_usage={'inputTokens': 850, 'outputTokens': 67, 'totalTokens': 917}, accumulated_metrics={'latencyMs': 4874}), state={})"
      ]
     },
     "metadata": {},
     "output_type": "display_data"
    }
   ],
   "source": [
    "from strands import Agent, tool\n",
    "import socket\n",
    "\n",
    "@tool\n",
    "def host_name() -> str:\n",
    "    \"\"\"\n",
    "    Gets the name of the host\n",
    "\n",
    "    Returns:\n",
    "        str: The name of the host\n",
    "    \"\"\"\n",
    "    return socket.gethostname()\n",
    "\n",
    "agent = Agent(tools=[host_name])\n",
    "\n",
    "message = \"\"\"\n",
    "what is your the name of the host\n",
    "\"\"\"\n",
    "agent(message)"
   ]
  },
  {
   "cell_type": "markdown",
   "id": "f15e8653",
   "metadata": {},
   "source": [
    "The preceding cells should have proved that the tool is being executed on the local machine. This means that the agent, is being executed by your local machine.\n",
    "\n",
    "The implication of this is far reaching and beyond the scope of this workshop, but I felt that it was important to understand that *Strands isn't used to build models or do magic. Strands enables us to leverage the features of Amazon Bedrock in order to create agents that use AI models.*"
   ]
  },
  {
   "cell_type": "markdown",
   "id": "ebb7cd57",
   "metadata": {},
   "source": [
    "# Case Study\n",
    "\n",
    "The remainder of this demo is done in the form of a case study and designed around using a key feature of Bedrock, __Knowledge Bases__.\n",
    "- *A __Knowledge Base__ is trusted data source enables the AI Agents to provide answers and completing tasks.*\n",
    "\n",
    "The Federal government requires states to make Wildlife harvest records publicly available. Each State does this on their own Wildlife website making it extremely hard to build a tool that can scrape them reliably. We want to create an Agent that can scrape these sites reliably and upload the data to a knowledge base. We will then create an agent that references that knowledge base in answering questions.\n",
    "\n",
    "### Goals\n",
    "1. Given a web page search for PDF files \n",
    "2. Upload the pdf files to s3\n",
    "    - Keep the bucket organized and follow the following naming convention `<animal>/<state>/<year>.pdf`\n",
    "3. Create a knowledge base\n",
    "4. Create an agent that references that knowledge base\n",
    "5. Do not leverage use_aws tool\n",
    "\n",
    "### Examples\n",
    "- https://wildlife.utah.gov/hunting/main-hunting-page/big-game/big-game-harvest-data.html\n",
    "- https://huntillinois.org/harvest-data"
   ]
  },
  {
   "cell_type": "markdown",
   "id": "61a223b6",
   "metadata": {},
   "source": [
    "#### Use AWS tool\n",
    "Amazon provides a tool, `use_aws`, that should make this job very easy in theory. In practice this did not work. \n",
    "\n",
    "In my first attempt, I tried creating 2 tools to enforce naming consistency and then letting `use_aws` run with it. I knew this solution would not be optimal, but I wanted to see if it would work. The agent could not succeed at this, but I learned quite alot about `use_aws`. My personal recommendation is to avoid this to outside of POC work, it is extremely greedy in how it opperates, deploying resources, failing and not cleaning up after its self. It will continue try and fail and try something new that will fail until it runs out of tokens. This is a great way to run up costs and lower the security of your aws environment. \n",
    "\n",
    "This attempt was unable to successfully upload pdf files in every attempt. I would create \"pdfs\" in s3 but they would be empty files with no contents"
   ]
  },
  {
   "cell_type": "markdown",
   "id": "71b01b4b",
   "metadata": {},
   "source": [
    "## Design Considerations\n",
    "This agent is designed to only do 1 workflow.\n",
    "- Find PDF files on a website\n",
    "- Download the PDF files\n",
    "- Upload PDFs to S3 \n",
    "- Create/update the knowledge base\n",
    "\n",
    "When we think about this workflow, the only AI part of this work is identifying the PDF file urls un a website. Further we can assume that this is going to effectively amount to parsing html. `<a href=\"<pdf file link>\">`\n",
    "- Government websites especially for hunting can often be behind the times so vanilla html is not uncommon.\n",
    "- Strands provides a tool `http_request` which we can leverage for these vanilla sites\n",
    "- More modern Javascript webpages may be more difficult to parse, there are other Strands tools that could improve this in theory, but I couldn't get them configured to run in the time I had. \n",
    "\n",
    "The remaining workflow is algorithmic, so instead of leaving it up to the agent we can build tooling for this. Further, we want this to be a singular tool so that there is only 1 possible entry point for the agent to call. If we provided multiple tools we would need to add more instructions (probably numbered instructions) to enforce the order of opperations, but it would be hard to ensure that if a step failed the agent would not do the step after that.\n"
   ]
  },
  {
   "cell_type": "code",
   "execution_count": null,
   "id": "886cf118",
   "metadata": {},
   "outputs": [],
   "source": [
    "## you can provide a different bedrock model id here if you want\n",
    "model = \"us.anthropic.claude-sonnet-4-20250514-v1:0\"\n",
    "## provide your name, but keep it short, no more then 6 characters\n",
    "user =\"twalsh\" \n",
    "region = \"us-east-1\""
   ]
  },
  {
   "cell_type": "markdown",
   "id": "68847b7f",
   "metadata": {},
   "source": [
    "#### Creating a tool\n",
    "It's time to create a tool for the AI agent too leverage. The empty function `ingest_files_and_create_knowledge_base` will be the tool that we want the agent to use. \n",
    "\n",
    "The function definition and the parameters have been defined\n",
    "\n",
    "Your objectives are as follows\n",
    "- Fill out the tool document comment so that the agent can effectively use the tool\n",
    "- Fill out the contents of the loop in the tools root function so that it calls create_knowledge_base correctly\n",
    "- Fill out create_knowledge_base function to execute the calls to the necessary knowledge_base management functions\n",
    "\n",
    "Every area that must be filled out is labelled"
   ]
  },
  {
   "cell_type": "code",
   "execution_count": null,
   "id": "e0988d5e",
   "metadata": {},
   "outputs": [],
   "source": [
    "from strands import tool\n",
    "import requests\n",
    "import os\n",
    "from knowledge_base_management import create_knowledge_base_with_s3_vectors, retrieve_knowledge_base, update_knowledge_base_with_s3_vectors\n",
    "os.environ[\"BYPASS_TOOL_CONSENT\"] = \"true\"\n",
    "\n",
    "def download_pdf(url, year):\n",
    "    response =  requests.get(url)\n",
    "    local_file_name = year+'.pdf'\n",
    "    if response.status_code == 200:\n",
    "        with open(local_file_name, 'wb') as file:\n",
    "            file.write(response.content)\n",
    "        print(f\"PDF downloaded successfully: {local_file_name}\")\n",
    "        return local_file_name\n",
    "    else:\n",
    "        print(f\"Failed to download PDF. Status code: {response.status_code}\")\n",
    "\n",
    "def create_knowledge_base(files, topic= f\"hunting-{user}\"):\n",
    "    ## Fill this in Referncing functions in knowledge_base_management.py\n",
    "    kb_id =  retrieve_knowledge_base(topic)\n",
    "    if kb_id is None:\n",
    "        return create_knowledge_base_with_s3_vectors(topic, files, region)\n",
    "    else:\n",
    "        return update_knowledge_base_with_s3_vectors(topic, files, kb_id, region)\n",
    "\n",
    "@tool\n",
    "def ingest_files_and_create_knowledge_base(animal:str, state:str, file_details: dict[str, str]) :\n",
    "    \"\"\"\n",
    "    Downloads PDF files from provided URLs, stores them in an S3 bucket, and creates or updates a vector-based Amazon Bedrock knowledge base.\n",
    "\n",
    "    This tool performs the following steps:\n",
    "    ###################################### REPLACE THIS LINE AND FILL THIS IN########################################\n",
    "    1. Generates a unique name for each file.\n",
    "    2. Uploads the files to an S3 bucket (creates the bucket if it doesn't exist).\n",
    "    3. Creates or updates a Bedrock knowledge base using the uploaded files.\n",
    "\n",
    "    Parameters:\n",
    "    ###################################### REPLACE THIS LINE AND FILL THIS IN########################################\n",
    "        animal (str): The type of animal the data is related to (e.g., \"deer\").\n",
    "        state (str): The U.S. state the data is associated with (e.g., \"Illinois\").\n",
    "        file_details (dict[str, str]): A dictionary of years and urls:\n",
    "            - key (str): The key should be the year the data in the file represents.\n",
    "            - value (str): The value should be the direct link to a downloadable PDF file.\n",
    "\n",
    "    Returns:\n",
    "    ###################################### REPLACE THIS LINE AND FILL THIS IN########################################\n",
    "        str: The ID of the created or updated knowledge base.\n",
    "\n",
    "    Example:\n",
    "    ###################################### REPLACE THIS LINE AND FILL THIS IN########################################\n",
    "        ingest_files_and_create_knowledge_base(\n",
    "            animal=\"deer\",\n",
    "            state=\"Illinois\",\n",
    "            file_details=[\n",
    "                {\"2022\", \"https://example.com/deer-report-2022.pdf\"},\n",
    "                {\"2023\", \"https://example.com/deer-report-2023.pdf\"}\n",
    "            ]\n",
    "        )\n",
    "\n",
    "    \"\"\" \n",
    "    ## Fill loop here \n",
    "    files = []\n",
    "    for file in file_details.items():\n",
    "        year, url = file\n",
    "        source = download_pdf(url, year)\n",
    "        target = f\"{animal.lower()}/{state.lower()}/{year}.pdf\"\n",
    "        files.append((source,target))\n",
    "    kb_id = create_knowledge_base(files)\n",
    "    ## at the end of this function we need to write the kb_id to an environment variable so that it can be referenced later in the jupyter notebook\n",
    "    os.environ[\"BEDROCK_KB_ID\"] = kb_id\n",
    "    return kb_id\n"
   ]
  },
  {
   "cell_type": "markdown",
   "id": "3f3d836b",
   "metadata": {},
   "source": [
    "### The Web Scraping Agent\n",
    "Fill in the System Prompt and provide the tooling so that the Web Scraping agent will be "
   ]
  },
  {
   "cell_type": "code",
   "execution_count": null,
   "id": "48403d1e",
   "metadata": {},
   "outputs": [],
   "source": [
    "from strands import Agent\n",
    "from strands_tools import http_request\n",
    "import os\n",
    "os.environ[\"BYPASS_TOOL_CONSENT\"] = \"true\"\n",
    "\n",
    "\n",
    "system_prompt = \"\"\"\n",
    "You are Hunting data scraping agent, your job is to fetch hunting data from a given web page and create knowledge bases from the PDFs on the web page.\n",
    "[Instructions]\n",
    "- you will be provided a URL to a states hunting website and an animal\n",
    "- Use HTTP GET to load the web page for the url provided\n",
    "- Identify the state that the webpage is for\n",
    "- Identify all the pdf files from the page for the animal that is provided. Pdf files should have a particular year in which they contain data for\n",
    "- If a year is presented as a range (e.g. 2022-2023) then that you should treat the year as the beginning of the range\n",
    "- If there are multiple pdf files for a single year and animal then choose one pdf for that year\n",
    "- If there are multiple pdf files for a single year and animal pick the file that is for the general season if possible\n",
    "- If there are multiple pdf files for a single year and animal but you are unable to identify a general season file then pick the first file file that animal and year\n",
    "- Using the tool you have been provided\n",
    "    - Ingest all the files that you identified and generate knowledge base name with the provided animal name and the state that you identified\n",
    "    - If this tool fails stop and tell the user there is a problem\n",
    "\"\"\"\n",
    "\n",
    "hunting_kb_agent = Agent(\n",
    "    tools=[ingest_files_and_create_knowledge_base, http_request ],\n",
    "    system_prompt = system_prompt,\n",
    "    model=model\n",
    ")\n",
    "\n",
    "response = hunting_kb_agent(\"Get the Deer Data from https://wildlife.utah.gov/hunting/main-hunting-page/big-game/big-game-harvest-data.html\")\n"
   ]
  },
  {
   "cell_type": "markdown",
   "id": "a2b4191a",
   "metadata": {},
   "source": [
    "### Using the Knowledge Base\n",
    "\n",
    "Strands provides us with the tool `retrieve` inorder to tell our agent to use the knowledge base as reference. The agent must be provided with the Knowledge Base's Id. If the default AWS region is not set on your aws account or the region of the knowledge base is not the default then you will need to provide the region in the system prompt.\n",
    "\n",
    "- In the following cell you have been provded with a base system prompt\n",
    "- Create an agent that references the knowledge base with this system prompt\n",
    "- Then modify the system prompt to answer the the user prompt below\n"
   ]
  },
  {
   "cell_type": "code",
   "execution_count": null,
   "id": "23465325",
   "metadata": {},
   "outputs": [],
   "source": [
    "from strands import Agent\n",
    "from strands_tools import retrieve\n",
    "import os\n",
    "os.environ[\"BYPASS_TOOL_CONSENT\"] = \"true\"\n",
    "kb_id = os.environ[\"BEDROCK_KB_ID\"]\n",
    "system_prompt = f\"\"\"\n",
    "You are Hunting guide, your clients will ask you all about hunting. Do not answer questions unrelated to hunting. \n",
    "[Instructions]\n",
    "- Search the knowledge base (ID: {kb_id}) in the region {region} and answer questions based on that knowledge base. That knowledge base contains data on Utah and Illinois.\n",
    "- If you encounter an error accessing the knowledge base print it out to the user\n",
    "\"\"\"\n",
    "guide_agent = Agent(\n",
    "    system_prompt = system_prompt,\n",
    "    tools=[retrieve],\n",
    "    model=model\n",
    ")\n",
    "\n",
    "response = guide_agent(\"Historically what regions of Utah have the highest success rates for archery hunters?\")\n"
   ]
  },
  {
   "cell_type": "code",
   "execution_count": null,
   "id": "55de57c3",
   "metadata": {},
   "outputs": [],
   "source": [
    "## Update the system prompt to prevent this question from being answered\n",
    "response = guide_agent(\"What color is taylor swifts hair?\")"
   ]
  },
  {
   "cell_type": "code",
   "execution_count": null,
   "id": "26006e31",
   "metadata": {},
   "outputs": [],
   "source": [
    "response = guide_agent(\"What compare the color of a deer's coat to taylor swifts hair?\")"
   ]
  },
  {
   "cell_type": "markdown",
   "id": "0431fab7",
   "metadata": {},
   "source": [
    "## Lets load some more data\n",
    "We need to update the Agent tooling to support updating the knowledge base if it already exists.\n",
    "Go back up to the the cell where you created the tooling four our web scraping agent and make the following updates\n",
    "- Update the tools name say suggest it updates the knowledge base\n",
    "- Update the tools description to say that it updates the knowledge base\n",
    "- Update the tool to check AWS to see if the KB exists (This ability is provided in knowledge_base_management.py)\n",
    "- Update the logic so that it will update the knowledge base if it exists\n",
    "- Recreate the agent (this needs to be done because you have renamed the tool)\n",
    "\n",
    "__Disclaimer__: Illinois transitioned from vanilla html to JS while I was working on this, the web scraping agent still works, but I have had it fail once or twice, you may need to rerun the agent if it fails"
   ]
  },
  {
   "cell_type": "code",
   "execution_count": null,
   "id": "c26a91b7",
   "metadata": {},
   "outputs": [],
   "source": [
    "from strands import tool\n",
    "import requests\n",
    "import os\n",
    "from knowledge_base_management import create_knowledge_base_with_s3_vectors, retrieve_knowledge_base, update_knowledge_base_with_s3_vectors\n",
    "os.environ[\"BYPASS_TOOL_CONSENT\"] = \"true\"\n",
    "\n",
    "def download_pdf(url, year):\n",
    "    response =  requests.get(url)\n",
    "    local_file_name = year+'.pdf'\n",
    "    if response.status_code == 200:\n",
    "        with open(local_file_name, 'wb') as file:\n",
    "            file.write(response.content)\n",
    "        print(f\"PDF downloaded successfully: {local_file_name}\")\n",
    "        return local_file_name\n",
    "    else:\n",
    "        print(f\"Failed to download PDF. Status code: {response.status_code}\")\n",
    "\n",
    "def create_or_update_knowledge_base(files, topic= f\"hunting-workshop-{user}\"):\n",
    "    kb_id =  retrieve_knowledge_base(topic)\n",
    "    if kb_id is None:\n",
    "        return create_knowledge_base_with_s3_vectors(topic, files, region)\n",
    "    else:\n",
    "        return update_knowledge_base_with_s3_vectors(topic, files, kb_id, region)\n",
    "\n",
    "@tool\n",
    "def ingest_files_and_create_or_update_knowledge_base(animal:str, state:str, file_details: dict[str, str]) :\n",
    "    \"\"\"\n",
    "    Downloads PDF files from provided URLs, stores them in an S3 bucket, and creates or updates a vector-based Amazon Bedrock knowledge base.\n",
    "\n",
    "    This tool performs the following steps:\n",
    "    1. Generates a unique name for each file.\n",
    "    2. Uploads the files to an S3 bucket (creates the bucket if it doesn't exist).\n",
    "    3. Creates or updates a Bedrock knowledge base using the uploaded files.\n",
    "\n",
    "    Parameters:\n",
    "        animal (str): The type of animal the data is related to (e.g., \"deer\").\n",
    "        state (str): The U.S. state the data is associated with (e.g., \"Illinois\").\n",
    "        file_details (dict[str, str]): A dictionary of years and urls:\n",
    "            - key (str): The key should be the year the data in the file represents.\n",
    "            - value (str): The value should be the direct link to a downloadable PDF file.\n",
    "\n",
    "    Returns:\n",
    "        str: The ID of the created or updated knowledge base.\n",
    "\n",
    "    Example:\n",
    "        ingest_files_and_create_knowledge_base(\n",
    "            animal=\"deer\",\n",
    "            state=\"Illinois\",\n",
    "            file_details=[\n",
    "                {\"2022\", \"https://example.com/deer-report-2022.pdf\"},\n",
    "                {\"2023\", \"https://example.com/deer-report-2023.pdf\"}\n",
    "            ]\n",
    "        )\n",
    "\n",
    "    \"\"\" \n",
    "    ## Fill loop here \n",
    "    files = []\n",
    "    for file in file_details.items():\n",
    "        year, url = file\n",
    "        source = download_pdf(url, year)\n",
    "        target = f\"{animal.lower()}/{state.lower()}/{year}.pdf\"\n",
    "        files.append((source,target))\n",
    "    kb_id = create_or_update_knowledge_base(files)\n",
    "    ## at the end of this function we need to write the kb_id to an environment variable so that it can be referenced later in the jupyter notebook\n",
    "    os.environ[\"BEDROCK_KB_ID\"] = kb_id\n",
    "    return kb_id\n"
   ]
  },
  {
   "cell_type": "code",
   "execution_count": null,
   "id": "673f9ed0",
   "metadata": {},
   "outputs": [],
   "source": [
    "from strands import Agent\n",
    "from strands_tools import http_request\n",
    "import os\n",
    "os.environ[\"BYPASS_TOOL_CONSENT\"] = \"true\"\n",
    "\n",
    "\n",
    "system_prompt = \"\"\"\n",
    "You are Hunting data scraping agent, your job is to fetch hunting data from a given web page and create knowledge bases from the PDFs on the web page.\n",
    "[Instructions]\n",
    "- you will be provided a URL to a states hunting website and an animal\n",
    "- Use HTTP GET to load the web page for the url provided\n",
    "- Identify the state that the webpage is for\n",
    "- Identify all the pdf files from the page for the animal that is provided. Pdf files should have a particular year in which they contain data for\n",
    "- If a year is presented as a range (e.g. 2022-2023) then that you should treat the year as the beginning of the range\n",
    "- If there are multiple pdf files for a single year and animal then choose one pdf for that year\n",
    "- If there are multiple pdf files for a single year and animal pick the file that is for the general season if possible\n",
    "- If there are multiple pdf files for a single year and animal but you are unable to identify a general season file then pick the first file file that animal and year\n",
    "- Using the tool you have been provided\n",
    "    - Ingest all the files that you identified and generate knowledge base name with the provided animal name and the state that you identified\n",
    "    - If this tool fails stop and tell the user there is a problem\n",
    "\"\"\"\n",
    "\n",
    "hunting_kb_agent = Agent(\n",
    "    tools=[ingest_files_and_create_or_update_knowledge_base, http_request ],\n",
    "    system_prompt = system_prompt,\n",
    "    model=model\n",
    ")\n"
   ]
  },
  {
   "cell_type": "code",
   "execution_count": null,
   "id": "4fbdf205",
   "metadata": {},
   "outputs": [],
   "source": [
    "response = hunting_kb_agent(\"Get the Deer Data from https://huntillinois.org/harvest-data\")"
   ]
  },
  {
   "cell_type": "markdown",
   "id": "2dfbc5cc",
   "metadata": {},
   "source": [
    "## Lets add memory and the calculator\n",
    "\n",
    "Strands has a tools for making agents more robust.\n",
    "- recreate the guide agent with memory and calculator\n",
    "- create user prompts to leverage those tools\n",
    "\n",
    "https://strandsagents.com/latest/documentation/docs/user-guide/concepts/tools/community-tools-package/\n",
    "\n",
    "Hint: you shouldn't need to update the system prompt, but you can"
   ]
  },
  {
   "cell_type": "code",
   "execution_count": null,
   "id": "1fa5cecf",
   "metadata": {},
   "outputs": [],
   "source": [
    "from strands import Agent\n",
    "from strands_tools import retrieve, memory, calculator\n",
    "import os\n",
    "os.environ[\"BYPASS_TOOL_CONSENT\"] = \"true\"\n",
    "\n",
    "os.environ[\"BEDROCK_KB_ID\"] = kb_id\n",
    "system_prompt = f\"\"\"\n",
    "You are Hunting guide, your clients will ask you all about hunting. Do not answer questions unrelated to hunting.\n",
    "[Instructions]\n",
    "- Search the knowledge base (ID: {kb_id}) in the region us-east-1 and answer questions based on that knowledge base. That knowledge base contains data on Utah and Illinois.\n",
    "- If you encounter an error accessing the knowledge base print it out to the user\n",
    "\"\"\"\n",
    "\n",
    "\n",
    "guide_agent = Agent(\n",
    "    system_prompt = system_prompt,\n",
    "    tools=[retrieve, calculator, memory],\n",
    "    model=model\n",
    ")\n"
   ]
  },
  {
   "cell_type": "code",
   "execution_count": null,
   "id": "10835155",
   "metadata": {},
   "outputs": [],
   "source": [
    "## ask a question"
   ]
  },
  {
   "cell_type": "code",
   "execution_count": null,
   "id": "2a2fa2ee",
   "metadata": {},
   "outputs": [],
   "source": [
    "## ask a related question that proves the agent uses memory"
   ]
  },
  {
   "cell_type": "code",
   "execution_count": null,
   "id": "ec6e1e76",
   "metadata": {},
   "outputs": [],
   "source": [
    "## ask a question that forces our agent to use the calculator"
   ]
  },
  {
   "cell_type": "markdown",
   "id": "066d7373",
   "metadata": {},
   "source": [
    "# Making an agent capable of searching the internet\n",
    "\n",
    "Duck duck go provides us with a python library. \n",
    "- Create a tool to Leverage the `ddgs.text()` function to preform a keyword search \n",
    "- Provide the agent the ability to use the tool \n",
    "- Explain to the agent how to leverage tool in the system prompt\n",
    "- Limit the number of searches the agent can do (this is optional, but annoying if you do not)"
   ]
  },
  {
   "cell_type": "code",
   "execution_count": null,
   "id": "0ca45185",
   "metadata": {},
   "outputs": [],
   "source": [
    "import logging\n",
    "from strands import Agent, tool\n",
    "from strands_tools import calculator\n",
    "from ddgs import DDGS\n",
    "\n",
    "logging.basicConfig(level=logging.INFO)\n",
    "\n",
    "@tool\n",
    "def websearch(\n",
    "    keywords: str,\n",
    "    region: str = \"us-en\",\n",
    "    max_results: int | None = None,\n",
    ") -> str:\n",
    "    \"\"\"Search the web to get updated information.\n",
    "    Args:\n",
    "        keywords (str): The search query keywords.\n",
    "        region (str): The search region: wt-wt, us-en, uk-en, ru-ru, etc..\n",
    "        max_results (int | None): The maximum number of results to return.\n",
    "    Returns:\n",
    "        List of dictionaries with search results.\n",
    "    \"\"\"\n",
    "    try:\n",
    "        results = DDGS().text(keywords, region=region, max_results=10)\n",
    "        return results if results else \"No results found.\"\n",
    "    except Exception as e:\n",
    "        return f\"Exception: {e}\"\n",
    "\n",
    "os.environ[\"BYPASS_TOOL_CONSENT\"] = \"true\"\n",
    "\n",
    "os.environ[\"BEDROCK_KB_ID\"] = kb_id\n",
    "system_prompt = f\"\"\"\n",
    "You are Hunting guide, your clients will ask you all about hunting. Do not answer questions unrelated to hunting.\n",
    "[Instructions]\n",
    "1. Search the knowledge base (ID: {kb_id}) in the region us-east-1 and answer questions based on that knowledge base.\n",
    "    - If you encounter an error accessing the knowledge base print it out to the user\n",
    "###################################### REPLACE THIS LINE AND update this prompt to add search instructions########################################\n",
    "2. If you do not find information in your knowledge base preform a web search to answer\n",
    "    - For keywords reference the state and animal you were asked about and look at .gov and .org results\n",
    "    - Search at most 1 time\n",
    "\"\"\"\n",
    "# Create a Strands agent\n",
    "better_hunting_guide = Agent(\n",
    "    name=\"smart hunting guide\",\n",
    "    system_prompt= system_prompt,\n",
    "    tools=[retrieve,memory, calculator, websearch],\n",
    "    callback_handler=None,\n",
    "    model=model\n",
    ")"
   ]
  },
  {
   "cell_type": "code",
   "execution_count": null,
   "id": "8444d233",
   "metadata": {},
   "outputs": [],
   "source": [
    "\n",
    "response = better_hunting_guide(\"How many deer are hunted in Wisconsin annually?\")"
   ]
  },
  {
   "cell_type": "markdown",
   "id": "6f3e5838",
   "metadata": {},
   "source": [
    "# Future add ons\n",
    "\n",
    "I wanted to add an agent to agent call where the Second Agent tells the first Agent to load Wisconsin's data to the knowledge base. Some of the issues that I was running into are interesting\n",
    "- not all of the government sites with statistics are .gov \n",
    "- Internet searching to find exact source that I want to is a challenge for the agent\n",
    "- because the first agent can't be counted on to find the proper source how do we solve loading data that may be less reliable to our knowledge base?\n"
   ]
  }
 ],
 "metadata": {
  "kernelspec": {
   "display_name": "workshop kernel",
   "language": "python",
   "name": "workshop"
  },
  "language_info": {
   "codemirror_mode": {
    "name": "ipython",
    "version": 3
   },
   "file_extension": ".py",
   "mimetype": "text/x-python",
   "name": "python",
   "nbconvert_exporter": "python",
   "pygments_lexer": "ipython3",
   "version": "3.13.7"
  }
 },
 "nbformat": 4,
 "nbformat_minor": 5
}
