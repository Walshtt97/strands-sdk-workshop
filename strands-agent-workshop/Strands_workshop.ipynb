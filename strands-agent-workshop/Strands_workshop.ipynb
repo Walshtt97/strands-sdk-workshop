{
 "cells": [
  {
   "cell_type": "markdown",
   "id": "62d9a813",
   "metadata": {},
   "source": [
    "# Prerequisites\n",
    "- Install python\n",
    "- Create a virtual environment\n",
    "- use pip to install the requirements"
   ]
  },
  {
   "cell_type": "markdown",
   "id": "da6a1177",
   "metadata": {},
   "source": [
    "# Strands Introduction\n",
    "\n",
    "Strands SDK is an open source python framework developed by AWS for building AI Agents. It is designed to simplify agent development by taking a model first approach. This allows developers to focus on defining goals and tools.\n",
    "\n",
    "Strands enables the developer to call AWS Bedrock with minimal code. For tooling, Strands provides a common library `strands_tools` as well the ability to easily create tools. "
   ]
  },
  {
   "cell_type": "code",
   "execution_count": 1,
   "id": "310e460f",
   "metadata": {},
   "outputs": [
    {
     "name": "stdout",
     "output_type": "stream",
     "text": [
      "I'll help you with all three requests! Let me get the answers for you.\n",
      "Tool #1: current_time\n",
      "\n",
      "Tool #2: calculator\n",
      "\n",
      "Tool #3: letter_counter\n"
     ]
    },
    {
     "data": {
      "text/html": [
       "<pre style=\"white-space:pre;overflow-x:auto;line-height:normal;font-family:Menlo,'DejaVu Sans Mono',consolas,'Courier New',monospace\"><span style=\"color: #000080; text-decoration-color: #000080\">╭────────────────────────────────────────────── </span><span style=\"color: #000080; text-decoration-color: #000080; font-weight: bold\">Calculation Result</span><span style=\"color: #000080; text-decoration-color: #000080\"> ───────────────────────────────────────────────╮</span>\n",
       "<span style=\"color: #000080; text-decoration-color: #000080\">│</span>                                                                                                                 <span style=\"color: #000080; text-decoration-color: #000080\">│</span>\n",
       "<span style=\"color: #000080; text-decoration-color: #000080\">│</span>  ╭───────────┬─────────────────────╮                                                                            <span style=\"color: #000080; text-decoration-color: #000080\">│</span>\n",
       "<span style=\"color: #000080; text-decoration-color: #000080\">│</span>  │<span style=\"color: #008080; text-decoration-color: #008080\"> Operation </span>│<span style=\"color: #008000; text-decoration-color: #008000\"> Evaluate Expression </span>│                                                                            <span style=\"color: #000080; text-decoration-color: #000080\">│</span>\n",
       "<span style=\"color: #000080; text-decoration-color: #000080\">│</span>  │<span style=\"color: #008080; text-decoration-color: #008080\"> Input     </span>│<span style=\"color: #008000; text-decoration-color: #008000\"> 3111696 / 74088     </span>│                                                                            <span style=\"color: #000080; text-decoration-color: #000080\">│</span>\n",
       "<span style=\"color: #000080; text-decoration-color: #000080\">│</span>  │<span style=\"color: #008080; text-decoration-color: #008080\"> Result    </span>│<span style=\"color: #008000; text-decoration-color: #008000\"> 42                  </span>│                                                                            <span style=\"color: #000080; text-decoration-color: #000080\">│</span>\n",
       "<span style=\"color: #000080; text-decoration-color: #000080\">│</span>  ╰───────────┴─────────────────────╯                                                                            <span style=\"color: #000080; text-decoration-color: #000080\">│</span>\n",
       "<span style=\"color: #000080; text-decoration-color: #000080\">│</span>                                                                                                                 <span style=\"color: #000080; text-decoration-color: #000080\">│</span>\n",
       "<span style=\"color: #000080; text-decoration-color: #000080\">╰─────────────────────────────────────────────────────────────────────────────────────────────────────────────────╯</span>\n",
       "</pre>\n"
      ],
      "text/plain": [
       "\u001b[34m╭─\u001b[0m\u001b[34m─────────────────────────────────────────────\u001b[0m\u001b[34m \u001b[0m\u001b[1;34mCalculation Result\u001b[0m\u001b[34m \u001b[0m\u001b[34m──────────────────────────────────────────────\u001b[0m\u001b[34m─╮\u001b[0m\n",
       "\u001b[34m│\u001b[0m                                                                                                                 \u001b[34m│\u001b[0m\n",
       "\u001b[34m│\u001b[0m  ╭───────────┬─────────────────────╮                                                                            \u001b[34m│\u001b[0m\n",
       "\u001b[34m│\u001b[0m  │\u001b[36m \u001b[0m\u001b[36mOperation\u001b[0m\u001b[36m \u001b[0m│\u001b[32m \u001b[0m\u001b[32mEvaluate Expression\u001b[0m\u001b[32m \u001b[0m│                                                                            \u001b[34m│\u001b[0m\n",
       "\u001b[34m│\u001b[0m  │\u001b[36m \u001b[0m\u001b[36mInput    \u001b[0m\u001b[36m \u001b[0m│\u001b[32m \u001b[0m\u001b[32m3111696 / 74088    \u001b[0m\u001b[32m \u001b[0m│                                                                            \u001b[34m│\u001b[0m\n",
       "\u001b[34m│\u001b[0m  │\u001b[36m \u001b[0m\u001b[36mResult   \u001b[0m\u001b[36m \u001b[0m│\u001b[32m \u001b[0m\u001b[32m42                 \u001b[0m\u001b[32m \u001b[0m│                                                                            \u001b[34m│\u001b[0m\n",
       "\u001b[34m│\u001b[0m  ╰───────────┴─────────────────────╯                                                                            \u001b[34m│\u001b[0m\n",
       "\u001b[34m│\u001b[0m                                                                                                                 \u001b[34m│\u001b[0m\n",
       "\u001b[34m╰─────────────────────────────────────────────────────────────────────────────────────────────────────────────────╯\u001b[0m\n"
      ]
     },
     "metadata": {},
     "output_type": "display_data"
    },
    {
     "name": "stdout",
     "output_type": "stream",
     "text": [
      "Here are the answers to your three requests:\n",
      "\n",
      "1. **Current time**: It's currently **2025-09-26T18:55:20** UTC (6:55:20 PM on September 26th, 2025)\n",
      "\n",
      "2. **3111696 ÷ 74088**: The answer is exactly **42** \n",
      "\n",
      "3. **Letter R's in \"strawberry\"** 🍓: There are **3** letter R's in the word \"strawberry\"\n",
      "\n",
      "Interesting that your division problem resulted in the answer to life, the universe, and everything! 😄"
     ]
    },
    {
     "data": {
      "text/plain": [
       "AgentResult(stop_reason='end_turn', message={'role': 'assistant', 'content': [{'text': 'Here are the answers to your three requests:\\n\\n1. **Current time**: It\\'s currently **2025-09-26T18:55:20** UTC (6:55:20 PM on September 26th, 2025)\\n\\n2. **3111696 ÷ 74088**: The answer is exactly **42** \\n\\n3. **Letter R\\'s in \"strawberry\"** 🍓: There are **3** letter R\\'s in the word \"strawberry\"\\n\\nInteresting that your division problem resulted in the answer to life, the universe, and everything! 😄'}]}, metrics=EventLoopMetrics(cycle_count=2, tool_metrics={'current_time': ToolMetrics(tool={'toolUseId': 'tooluse_nXlx-DLDQrqqMrsveWtXaQ', 'name': 'current_time', 'input': {}}, call_count=1, success_count=1, error_count=0, total_time=0.0011570453643798828), 'letter_counter': ToolMetrics(tool={'toolUseId': 'tooluse_G2SgxZbYTvO4mCY0Z58YGQ', 'name': 'letter_counter', 'input': {'word': 'strawberry', 'letter': 'r'}}, call_count=1, success_count=1, error_count=0, total_time=0.0005247592926025391), 'calculator': ToolMetrics(tool={'toolUseId': 'tooluse_nSji3ifYRcWRk_csXWgjdQ', 'name': 'calculator', 'input': {'expression': '3111696 / 74088'}}, call_count=1, success_count=1, error_count=0, total_time=0.010143041610717773)}, cycle_durations=[3.9993553161621094], traces=[<strands.telemetry.metrics.Trace object at 0x000001F1EB19C830>, <strands.telemetry.metrics.Trace object at 0x000001F1EB171BF0>], accumulated_usage={'inputTokens': 5363, 'outputTokens': 284, 'totalTokens': 5647}, accumulated_metrics={'latencyMs': 5956}), state={})"
      ]
     },
     "execution_count": 1,
     "metadata": {},
     "output_type": "execute_result"
    }
   ],
   "source": [
    "from strands import Agent, tool\n",
    "from strands_tools import calculator, current_time\n",
    "@tool\n",
    "def letter_counter(word: str, letter: str) -> int:\n",
    "    \"\"\"\n",
    "    Count occurrences of a specific letter in a word.\n",
    "\n",
    "    Args:\n",
    "        word (str): The input word to search in\n",
    "        letter (str): The specific letter to count\n",
    "\n",
    "    Returns:\n",
    "        int: The number of occurrences of the letter in the word\n",
    "    \"\"\"\n",
    "    if not isinstance(word, str) or not isinstance(letter, str):\n",
    "        return 0\n",
    "\n",
    "    if len(letter) != 1:\n",
    "        raise ValueError(\"The 'letter' parameter must be a single character\")\n",
    "\n",
    "    return word.lower().count(letter.lower())\n",
    "agent = Agent(tools=[calculator, current_time, letter_counter])\n",
    "\n",
    "# Ask the agent a question that uses the available tools\n",
    "message = \"\"\"\n",
    "I have 3 requests for you to do:\n",
    "\n",
    "1. What is the time right now?\n",
    "2. Calculate 3111696 / 74088\n",
    "3. Tell me how many letter R's are in the word \"strawberry\" 🍓\n",
    "\"\"\"\n",
    "agent(message)"
   ]
  },
  {
   "cell_type": "markdown",
   "id": "59aa49d0",
   "metadata": {},
   "source": [
    "## Find the list of community tools here\n",
    "https://strandsagents.com/latest/documentation/docs/user-guide/concepts/tools/community-tools-package/"
   ]
  },
  {
   "cell_type": "markdown",
   "id": "ebb7cd57",
   "metadata": {},
   "source": [
    "# Case Study\n",
    "\n",
    "The remainder of this demo is done in the form of a case study and designed around using a key feature of Bedrock, __Knowledge Bases__.\n",
    "- *A __Knowledge Base__ is trusted data source enables the AI Agents to provide answers and completing tasks.*\n",
    "\n",
    "The Federal government requires states to make Wildlife harvest records publicly available. Each State does this on their own Wildlife website making it extremely hard to build a tool that can scrape them reliably. We want to create an Agent that can scrape these sites reliably and upload the data to a knowledge base. We will then create an agent that references that knowledge base in answering questions.\n",
    "\n",
    "### Goals\n",
    "1. Given a web page search for PDF files \n",
    "2. Upload the pdf files to s3\n",
    "    - Keep the bucket organized and follow the following naming convention `<animal>/<state>/<year>.pdf`\n",
    "3. Create a knowledge base\n",
    "4. Create an agent that references that knowledge base\n",
    "5. Do not leverage use_aws tool\n",
    "\n",
    "### Examples\n",
    "- https://wildlife.utah.gov/hunting/main-hunting-page/big-game/big-game-harvest-data.html\n",
    "- https://huntillinois.org/harvest-data"
   ]
  },
  {
   "cell_type": "markdown",
   "id": "61a223b6",
   "metadata": {},
   "source": [
    "#### Use AWS tool\n",
    "Amazon provides a tool, `use_aws`, that should make this job very easy in theory. In practice this did not work. \n",
    "\n",
    "In my first attempt, I tried creating 2 tools to enforce naming consistency and then letting `use_aws` run with it. I knew this solution would not be optimal, but I wanted to see if it would work. The agent could not succeed at this, but I learned quite alot about `use_aws`. My personal recommendation is to avoid this to outside of POC work, it is extremely greedy in how it opperates, deploying resources, failing and not cleaning up after its self. It will continue try and fail and try something new that will fail until it runs out of tokens. This is a great way to run up costs and lower the security of your aws environment. \n",
    "\n",
    "This attempt was unable to successfully upload pdf files in every attempt. I would create \"pdfs\" in s3 but they would be empty files with no contents"
   ]
  },
  {
   "cell_type": "markdown",
   "id": "71b01b4b",
   "metadata": {},
   "source": [
    "## Design Considerations\n",
    "This agent is designed to only do 1 workflow.\n",
    "- Find PDF files on a website\n",
    "- Download the PDF files\n",
    "- Upload PDFs to S3 \n",
    "- Create/update the knowledge base\n",
    "\n",
    "When we think about this workflow, the only AI part of this work is identifying the PDF file urls un a website. Further we can assume that this is going to effectively amount to parsing html. `<a href=\"<pdf file link>\">`\n",
    "- Government websites especially for hunting can often be behind the times so vanilla html is not uncommon.\n",
    "- Strands provides a tool `http_request` which we can leverage for these vanilla sites\n",
    "- More modern Javascript webpages may be more difficult to parse, there are other Strands tools that could improve this in theory, but I couldn't get them configured to run in the time I had. \n",
    "\n",
    "The remaining workflow is algorithmic, so instead of leaving it up to the agent we can build tooling for this. Further, we want this to be a singular tool so that there is only 1 possible entry point for the agent to call. If we provided multiple tools we would need to add more instructions (probably numbered instructions) to enforce the order of opperations, but it would be hard to ensure that if a step failed the agent would not do the step after that.\n"
   ]
  },
  {
   "cell_type": "code",
   "execution_count": null,
   "id": "886cf118",
   "metadata": {},
   "outputs": [],
   "source": [
    "## you can provide a different bedrock model id here if you want\n",
    "model = \"us.anthropic.claude-sonnet-4-20250514-v1:0\"\n",
    "## provide your name, but keep it short, no more then 6 characters\n",
    "user =\"<put your name here, no spaces>\" \n",
    "region = \"us-east-1\""
   ]
  },
  {
   "cell_type": "markdown",
   "id": "68847b7f",
   "metadata": {},
   "source": [
    "#### Creating a tool\n",
    "It's time to create a tool for the AI agent too leverage. The empty function `ingest_files_and_create_knowledge_base` will be the tool that we want the agent to use. \n",
    "\n",
    "The function definition and the parameters have been defined\n",
    "\n",
    "Your objectives are as follows\n",
    "- Fill out the tool document comment so that the agent can effectively use the tool\n",
    "- Fill out the contents of the loop in the tools root function so that it calls create_knowledge_base correctly\n",
    "- Fill out create_knowledge_base function to execute the calls to the necessary knowledge_base management functions\n",
    "\n",
    "Every area that must be filled out is labelled"
   ]
  },
  {
   "cell_type": "code",
   "execution_count": null,
   "id": "e0988d5e",
   "metadata": {},
   "outputs": [],
   "source": [
    "from strands import tool\n",
    "import requests\n",
    "import os\n",
    "from knowledge_base_management import create_knowledge_base_with_s3_vectors, retrieve_knowledge_base, update_knowledge_base_with_s3_vectors\n",
    "os.environ[\"BYPASS_TOOL_CONSENT\"] = \"true\"\n",
    "\n",
    "def download_pdf(url, year):\n",
    "    response =  requests.get(url)\n",
    "    local_file_name = year+'.pdf'\n",
    "    if response.status_code == 200:\n",
    "        with open(local_file_name, 'wb') as file:\n",
    "            file.write(response.content)\n",
    "        print(f\"PDF downloaded successfully: {local_file_name}\")\n",
    "        return local_file_name\n",
    "    else:\n",
    "        print(f\"Failed to download PDF. Status code: {response.status_code}\")\n",
    "\n",
    "def create_knowledge_base(files, topic= f\"hunting-workshop-{user}\"):\n",
    "    ## Fill this in Referncing functions in knowledge_base_management.py\n",
    "\n",
    "@tool\n",
    "def ingest_files_and_create_knowledge_base(animal:str, state:str, file_details: dict[str, str]) :\n",
    "    \"\"\"\n",
    "    Downloads PDF files from provided URLs, stores them in an S3 bucket, and creates or updates a vector-based Amazon Bedrock knowledge base.\n",
    "\n",
    "    This tool performs the following steps:\n",
    "    ###################################### REPLACE THIS LINE AND FILL THIS IN########################################\n",
    "\n",
    "    Parameters:\n",
    "    ###################################### REPLACE THIS LINE AND FILL THIS IN########################################\n",
    "\n",
    "    Returns:\n",
    "    ###################################### REPLACE THIS LINE AND FILL THIS IN########################################\n",
    "\n",
    "    Example:\n",
    "    ###################################### REPLACE THIS LINE AND FILL THIS IN########################################\n",
    "\n",
    "    \"\"\" \n",
    "    ## Fill loop here \n",
    "    files = []\n",
    "    for file in file_details.items():\n",
    "        break\n",
    "    kb_id = create_knowledge_base(files)\n",
    "    ## at the end of this function we need to write the kb_id to an environment variable so that it can be referenced later in the jupyter notebook\n",
    "    os.environ[\"BEDROCK_KB_ID\"] = kb_id\n",
    "    return kb_id\n"
   ]
  },
  {
   "cell_type": "markdown",
   "id": "3f3d836b",
   "metadata": {},
   "source": [
    "### The Web Scraping Agent\n",
    "Fill in the System Prompt and provide the tooling so that the Web Scraping agent will be "
   ]
  },
  {
   "cell_type": "code",
   "execution_count": null,
   "id": "48403d1e",
   "metadata": {},
   "outputs": [],
   "source": [
    "from strands import Agent\n",
    "from strands_tools import http_request\n",
    "import os\n",
    "os.environ[\"BYPASS_TOOL_CONSENT\"] = \"true\"\n",
    "\n",
    "\n",
    "system_prompt = \"\"\"\n",
    "\"\"\"\n",
    "\n",
    "hunting_kb_agent = Agent(\n",
    "    tools=[],\n",
    "    system_prompt = system_prompt,\n",
    "    model = model\n",
    ")\n",
    "\n",
    "response = hunting_kb_agent(\"Get the Deer Data from https://wildlife.utah.gov/hunting/main-hunting-page/big-game/big-game-harvest-data.html\")\n"
   ]
  },
  {
   "cell_type": "markdown",
   "id": "a2b4191a",
   "metadata": {},
   "source": [
    "### Using the Knowledge Base\n",
    "\n",
    "Strands provides us with the tool `retrieve` inorder to tell our agent to use the knowledge base as reference. The agent must be provided with the Knowledge Base's Id. If the default AWS region is not set on your aws account or the region of the knowledge base is not the default then you will need to provide the region in the system prompt.\n",
    "\n",
    "- In the following cell you have been provded with a base system prompt\n",
    "- Create an agent that references the knowledge base with this system prompt\n",
    "- Then modify the system prompt to answer the the user prompt below\n"
   ]
  },
  {
   "cell_type": "code",
   "execution_count": null,
   "id": "23465325",
   "metadata": {},
   "outputs": [],
   "source": [
    "from strands import Agent\n",
    "import os\n",
    "os.environ[\"BYPASS_TOOL_CONSENT\"] = \"true\"\n",
    "kb_id = os.environ[\"BEDROCK_KB_ID\"]\n",
    "system_prompt = f\"\"\"\n",
    "You are Hunting guide, your clients will ask you all about hunting. \n",
    "[Instructions]\n",
    "- Search the knowledge base (ID: {kb_id}) in the region {region} and answer questions based on that knowledge base. That knowledge base contains data on Utah and Illinois.\n",
    "- If you encounter an error accessing the knowledge base print it out to the user\n",
    "\"\"\"\n",
    "guide_agent = None\n",
    "\n",
    "response = guide_agent(\"Historically what regions of Utah have the highest success rates for archery hunters?\")\n"
   ]
  },
  {
   "cell_type": "code",
   "execution_count": null,
   "id": "55de57c3",
   "metadata": {},
   "outputs": [],
   "source": [
    "## Update the system prompt to prevent this question from being answered\n",
    "response = guide_agent(\"What color is taylor swifts hair?\")"
   ]
  },
  {
   "cell_type": "code",
   "execution_count": null,
   "id": "26006e31",
   "metadata": {},
   "outputs": [],
   "source": [
    "response = guide_agent(\"What compare the color of a deer's coat to taylor swifts hair?\")"
   ]
  },
  {
   "cell_type": "markdown",
   "id": "0431fab7",
   "metadata": {},
   "source": [
    "## Lets load some more data\n",
    "We need to update the Agent tooling to support updating the knowledge base if it already exists.\n",
    "Go back up to the the cell where you created the tooling four our web scraping agent and make the following updates\n",
    "- update the tools name say suggest it updates the knowledge base\n",
    "- update the tools description to say that it updates the knowledge base\n",
    "- update the tool to check AWS to see if the KB exists (This ability is provided in knowledge_base_management.py)\n",
    "- update the logic so that it will update the knowledge base if it exists\n",
    "- Recreate the agent (this needs to be done because you have renamed the tool)\n",
    "\n",
    "__Disclaimer__: Illinois transitioned from vanilla html to JS while I was working on this, the web scraping agent still works, but I have had it fail once or twice, you may need to rerun the agent if it fails"
   ]
  },
  {
   "cell_type": "code",
   "execution_count": null,
   "id": "4fbdf205",
   "metadata": {},
   "outputs": [],
   "source": [
    "response = hunting_kb_agent(\"Get the Deer Data from https://huntillinois.org/harvest-data\")"
   ]
  },
  {
   "cell_type": "markdown",
   "id": "2dfbc5cc",
   "metadata": {},
   "source": [
    "## Recreating our guide agent\n",
    "\n",
    "Since we updated our knowledge base in place we don't need to do to recreate the agent, however we want a smarter agent anyway so lets do that now.\n",
    "\n",
    "Strands has a tools for making agents more robust.\n",
    "- recreate the guide agent with memory and calculator\n",
    "- create user prompts to leverage those tools\n",
    "\n",
    "https://strandsagents.com/latest/documentation/docs/user-guide/concepts/tools/community-tools-package/\n",
    "\n",
    "Hint: you shouldn't need to update the system prompt, but you can."
   ]
  },
  {
   "cell_type": "code",
   "execution_count": null,
   "id": "1fa5cecf",
   "metadata": {},
   "outputs": [],
   "source": [
    "## recreate the agent here"
   ]
  },
  {
   "cell_type": "code",
   "execution_count": null,
   "id": "10835155",
   "metadata": {},
   "outputs": [],
   "source": [
    "## ask a question"
   ]
  },
  {
   "cell_type": "code",
   "execution_count": null,
   "id": "2a2fa2ee",
   "metadata": {},
   "outputs": [],
   "source": [
    "## ask a related question that proves the agent uses memory"
   ]
  },
  {
   "cell_type": "code",
   "execution_count": null,
   "id": "ec6e1e76",
   "metadata": {},
   "outputs": [],
   "source": [
    "## ask a question that forces our agent to use the calculator"
   ]
  },
  {
   "cell_type": "markdown",
   "id": "066d7373",
   "metadata": {},
   "source": [
    "# Making an agent capable of searching the internet\n",
    "\n",
    "Duck Duck Go provides us with a python library. \n",
    "- Create a tool to Leverage the `ddgs.text()` function to preform a keyword search \n",
    "- Provide the agent the ability to use the tool \n",
    "- Explain to the agent how to leverage tool in the system prompt\n",
    "- Limit the number of searches the agent can do (this is optional, but annoying if you do not)"
   ]
  },
  {
   "cell_type": "code",
   "execution_count": null,
   "id": "0ca45185",
   "metadata": {},
   "outputs": [],
   "source": [
    "import logging\n",
    "from strands import Agent, tool\n",
    "from strands_tools import calculator\n",
    "from ddgs import DDGS\n",
    "\n",
    "logging.basicConfig(level=logging.INFO)\n",
    "\n",
    "@tool\n",
    "def websearch(\n",
    "    keywords: str,\n",
    "    region: str = \"us-en\",\n",
    "    max_results: int | None = None,\n",
    ") -> str:\n",
    "    \"\"\"\n",
    "    \"\"\"\n",
    "    try:\n",
    "        return\n",
    "    except Exception as e:\n",
    "        return f\"Exception: {e}\"\n",
    "\n",
    "os.environ[\"BYPASS_TOOL_CONSENT\"] = \"true\"\n",
    "\n",
    "os.environ[\"BEDROCK_KB_ID\"] = kb_id\n",
    "system_prompt = f\"\"\"\n",
    "You are Hunting guide, your clients will ask you all about hunting. Do not answer questions unrelated to hunting.\n",
    "[Instructions]\n",
    "1. Search the knowledge base (ID: {kb_id}) in the region us-east-1 and answer questions based on that knowledge base.\n",
    "    - If you encounter an error accessing the knowledge base print it out to the user\n",
    "###################################### REPLACE THIS LINE AND update this prompt to add search instructions########################################\n",
    "\"\"\"\n",
    "# Create a Strands agent\n",
    "better_hunting_guide = Agent(\n",
    "    name=\"smart hunting guide\",\n",
    "    system_prompt= system_prompt,\n",
    "    tools=[retrieve,memory, calculator, websearch],\n",
    "    callback_handler=None\n",
    ")"
   ]
  },
  {
   "cell_type": "code",
   "execution_count": null,
   "id": "8444d233",
   "metadata": {},
   "outputs": [],
   "source": [
    "\n",
    "response = better_hunting_guide(\"How many deer are hunted in Wisconsin annually?\")"
   ]
  },
  {
   "cell_type": "markdown",
   "id": "6f3e5838",
   "metadata": {},
   "source": [
    "# Future add ons\n",
    "\n",
    "I wanted to add an agent to agent call where the Second Agent tells the first Agent to load Wisconsin's data to the knowledge base. Some of the issues that I was running into are interesting\n",
    "- not all of the government sites with statistics are .gov \n",
    "- Internet searching to find exact source that I want to is a challenge for the agent\n",
    "- because the first agent can't be counted on to find the proper source how do we solve loading data that may be less reliable to our knowledge base?\n"
   ]
  }
 ],
 "metadata": {
  "kernelspec": {
   "display_name": "workshop kernel",
   "language": "python",
   "name": "workshop"
  },
  "language_info": {
   "codemirror_mode": {
    "name": "ipython",
    "version": 3
   },
   "file_extension": ".py",
   "mimetype": "text/x-python",
   "name": "python",
   "nbconvert_exporter": "python",
   "pygments_lexer": "ipython3",
   "version": "3.13.7"
  }
 },
 "nbformat": 4,
 "nbformat_minor": 5
}
